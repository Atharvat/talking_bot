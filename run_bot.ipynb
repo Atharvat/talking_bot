{
 "cells": [
  {
   "cell_type": "code",
   "execution_count": 1,
   "id": "5d4f4ae2-6096-4473-aaac-1141c4a58bff",
   "metadata": {},
   "outputs": [
    {
     "name": "stdout",
     "output_type": "stream",
     "text": [
      "WARNING:tensorflow:\n",
      "The TensorFlow contrib module will not be included in TensorFlow 2.0.\n",
      "For more information, please see:\n",
      "  * https://github.com/tensorflow/community/blob/master/rfcs/20180907-contrib-sunset.md\n",
      "  * https://github.com/tensorflow/addons\n",
      "  * https://github.com/tensorflow/io (for I/O related ops)\n",
      "If you depend on functionality not listed there, please file an issue.\n",
      "\n",
      "Loading checkpoint checkpoint\\run1\\model-500\n",
      "INFO:tensorflow:Restoring parameters from checkpoint\\run1\\model-500\n"
     ]
    }
   ],
   "source": [
    "import gpt_2_simple as gpt2\n",
    "import os\n",
    "import requests\n",
    "import pyttsx3\n",
    "import speech_recognition as sr\n",
    "\n",
    "sess = gpt2.start_tf_sess()\n",
    "gpt2.load_gpt2(sess)"
   ]
  },
  {
   "cell_type": "code",
   "execution_count": 2,
   "id": "d35ed826-267e-4b98-8fba-2e14d43f4b08",
   "metadata": {},
   "outputs": [],
   "source": [
    "engine = pyttsx3.init()"
   ]
  },
  {
   "cell_type": "code",
   "execution_count": 3,
   "id": "6030f838-bd04-4686-8439-9abab5525063",
   "metadata": {},
   "outputs": [],
   "source": [
    "r = sr.Recognizer()\n",
    "mic = sr.Microphone()\n",
    "\n",
    "def startBot():\n",
    "    with mic as source:\n",
    "        print('listening...')\n",
    "        audio = r.listen(source)\n",
    "\n",
    "    a = r.recognize_google(audio)\n",
    "    print(a)\n",
    "\n",
    "    inp = 'Question: ' + a\n",
    "\n",
    "    x = gpt2.generate(sess,\n",
    "                    length=25,\n",
    "                    temperature = 0.6,\n",
    "                    include_prefix=False,\n",
    "                    prefix=inp,\n",
    "                    nsamples=1,\n",
    "                    return_as_list=True)[0] \n",
    "    #eng = x\n",
    "\n",
    "\n",
    "    x = x.partition('\\n')[2]\n",
    "    x = x.split('Question')[0]\n",
    "    x = x.replace('Answer: ','',1)\n",
    "    #text_audio()\n",
    "    print(x)\n",
    "    engine.say(x)\n",
    "    engine.runAndWait()"
   ]
  },
  {
   "cell_type": "code",
   "execution_count": null,
   "id": "ac77a925-0998-4644-b7ff-cc82c16fbfa6",
   "metadata": {},
   "outputs": [],
   "source": [
    "startBot()"
   ]
  }
 ],
 "metadata": {
  "kernelspec": {
   "display_name": "Python 3 (ipykernel)",
   "language": "python",
   "name": "python3"
  },
  "language_info": {
   "codemirror_mode": {
    "name": "ipython",
    "version": 3
   },
   "file_extension": ".py",
   "mimetype": "text/x-python",
   "name": "python",
   "nbconvert_exporter": "python",
   "pygments_lexer": "ipython3",
   "version": "3.7.9"
  }
 },
 "nbformat": 4,
 "nbformat_minor": 5
}
